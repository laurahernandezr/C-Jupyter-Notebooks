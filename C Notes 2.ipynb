{
 "cells": [
  {
   "cell_type": "markdown",
   "metadata": {},
   "source": [
    "    Pointers\n",
    "variable that contains a memory address of another variable.\n",
    "Used for efficiency with memory as there is only one copy,\n",
    "efficiency with retrival speed, and to pass by reference in functions. "
   ]
  },
  {
   "cell_type": "markdown",
   "metadata": {},
   "source": [
    "#include <stdio.h>\n",
    "int main(){\n",
    "int age = 18;\n",
    "int * pAge = &age;\n",
    "printf(\"%d\\n\", *pAge);\n",
    "printf(\"%p\\n\", pAge);\n",
    "}\n"
   ]
  },
  {
   "cell_type": "markdown",
   "metadata": {},
   "source": [
    "Always check if they are initialized before derreferencing"
   ]
  },
  {
   "cell_type": "code",
   "execution_count": 24,
   "metadata": {},
   "outputs": [
    {
     "name": "stdout",
     "output_type": "stream",
     "text": [
      "a\n"
     ]
    }
   ],
   "source": [
    "#include <stdio.h>\n",
    "int main(){\n",
    "char age = 'a';\n",
    "char *pAge = &age;\n",
    "printf(\"%c\\n\", pAge? *pAge:'x');\n",
    "}"
   ]
  },
  {
   "cell_type": "markdown",
   "metadata": {},
   "source": [
    "    Constant Pointers"
   ]
  },
  {
   "cell_type": "code",
   "execution_count": 25,
   "metadata": {},
   "outputs": [
    {
     "name": "stdout",
     "output_type": "stream",
     "text": [
      "a\n",
      "a\n",
      "a\n",
      "a\n"
     ]
    }
   ],
   "source": [
    "#include <stdio.h>\n",
    "int main(){\n",
    "// non constant pointer to non constant data;\n",
    "char age = 'a';\n",
    "char *pAge = &age;\n",
    "printf(\"%c\\n\", pAge? *pAge:'x');\n",
    "\n",
    "// constant pointer to non constant data\n",
    "char age2 = 'a';\n",
    "char * const pAge2 = &age2;\n",
    "printf(\"%c\\n\", pAge2? *pAge2:'x');\n",
    "\n",
    "// non constant pointer to constant data\n",
    "const char age3 = 'a';\n",
    "const char *pAge3 = &age3;\n",
    "printf(\"%c\\n\", pAge3? *pAge3:'x');\n",
    "\n",
    "// constant pointer to constant data\n",
    "const char age4 = 'a';\n",
    "const char* const pAge4 = &age4;\n",
    "printf(\"%c\\n\", pAge? *pAge:'x');\n",
    "}"
   ]
  },
  {
   "cell_type": "markdown",
   "metadata": {},
   "source": [
    "    Size Operator"
   ]
  },
  {
   "cell_type": "code",
   "execution_count": 26,
   "metadata": {},
   "outputs": [
    {
     "name": "stdout",
     "output_type": "stream",
     "text": [
      "4 1 8 4"
     ]
    }
   ],
   "source": [
    "#include <stdio.h>\n",
    "#include <stddef.h>\n",
    "int main(){\n",
    "int var;\n",
    "char varc;\n",
    "double vard;\n",
    "float varf;\n",
    "\n",
    "//we use size_t to make sure the number will fit, as it might not fit \n",
    "//in any other data type.\n",
    "size_t varSize = sizeof(var);\n",
    "size_t varSizec = sizeof(varc);\n",
    "size_t varSized = sizeof(vard);\n",
    "size_t varSizef = sizeof(varf);\n",
    "printf(\"%zu %zu %zu %zu\", varSize,varSizec,varSized,varSizef);\n",
    "}\n"
   ]
  },
  {
   "cell_type": "markdown",
   "metadata": {},
   "source": [
    "    Pointers vs arrays\n",
    "a[3]\n",
    "– is equivalent to *(aPtr+3)\n",
    "– is equivalent to aPtr[3]\n",
    "– is equivalent to *(a + 3)\n",
    "An array name is a constant pointer = it points to the first element of an array"
   ]
  },
  {
   "cell_type": "code",
   "execution_count": 27,
   "metadata": {},
   "outputs": [],
   "source": [
    "#include <stdio.h>\n",
    "int main(){\n",
    "char sentence1[100] = \"Hello\"; //saves Hello as a char array in the stack\n",
    "char *sentence2 = \"Hello\"; //saves Hello as a string literal in Data\n",
    "}"
   ]
  },
  {
   "cell_type": "markdown",
   "metadata": {},
   "source": [
    "    Pointers to Functions"
   ]
  },
  {
   "cell_type": "code",
   "execution_count": 28,
   "metadata": {},
   "outputs": [
    {
     "name": "stdout",
     "output_type": "stream",
     "text": [
      "Enter Choice: 0 for add, 1 for subtract and 2 for multiply\n",
      "Addition is 25\n",
      "25\n"
     ]
    }
   ],
   "source": [
    "#include <stdio.h>\n",
    "int add(int a, int b)\n",
    "{\n",
    "    printf(\"Addition is %d\\n\", a+b);\n",
    "    return a+b;\n",
    "}\n",
    "int subtract(int a, int b)\n",
    "{\n",
    "    printf(\"Subtraction is %d\\n\", a-b);\n",
    "    return a-b;\n",
    "}\n",
    "int multiply(int a, int b)\n",
    "{\n",
    "    printf(\"Multiplication is %d\\n\", a*b);\n",
    "    return a*b;\n",
    "}\n",
    "\n",
    "int main()\n",
    "{\n",
    "    // fun_ptr_arr is an array of function pointers\n",
    "    int (*fun_ptr_arr[])(int, int) = {add, subtract, multiply};\n",
    "    int ch, a = 15, b = 10;\n",
    "\n",
    "    printf(\"Enter Choice: 0 for add, 1 for subtract and 2 for multiply\\n\");\n",
    "    scanf(\"%d\", &ch);\n",
    "\n",
    "    if (ch > 2) return 0;\n",
    "    int answer = (*fun_ptr_arr[ch])(a, b);\n",
    "    printf(\"%d\\n\", answer);\n",
    "    return 0;\n",
    "} \n"
   ]
  },
  {
   "cell_type": "markdown",
   "metadata": {},
   "source": [
    "    Pointers and multi-dimensional arrays\n",
    "int a[4][5];// 4 rows, 5 columns\n",
    "int (*pRow)[5]; //pointer to the rows, we can move pRow to traverse the rows\n",
    "//Array of pointers\n",
    "const char *suit[4] = {\"Hearts\", \"Diamonds\", \"Clubs\", \"Spades\"};\n",
    "\n",
    "// The strings are saved as constants in data\n",
    "// the array is saved in the stack including the addresses of where the //strings are"
   ]
  },
  {
   "cell_type": "markdown",
   "metadata": {},
   "source": [
    "    Dynamic Memory Allocation\n",
    "void * malloc ( size_t size ); //allocates a block of memory of size “size”,\n",
    "//returns a void* to the beginning of the memory block\n",
    "void * calloc ( size_t num, size_t size ); //@param num = number of elements,\n",
    "//@param size = size of each element\n",
    "//calloc() = malloc() but zeros elements"
   ]
  },
  {
   "cell_type": "code",
   "execution_count": 29,
   "metadata": {},
   "outputs": [],
   "source": [
    "#include <stdio.h> \n",
    "#include <stdlib.h> \n",
    "  \n",
    "int main() \n",
    "{ \n",
    "   int *arr; \n",
    "     \n",
    "   // malloc() allocate the memory for 5 integers \n",
    "   // containing garbage values \n",
    "   arr = (int *)malloc(5 * sizeof(int)); // 5*4bytes = 20 bytes \n",
    "     \n",
    "   // Deallocates memory previously allocated by malloc() function \n",
    "   free(arr); \n",
    "     \n",
    "   // calloc() allocate the memory for 5 integers and \n",
    "   // set 0 to all of them \n",
    "   arr = (int *)calloc(5, sizeof(int)); \n",
    "     \n",
    "   // Deallocates memory previously allocated by calloc() function \n",
    "   free(arr); \n",
    "  \n",
    "   return(0); \n",
    "} "
   ]
  },
  {
   "cell_type": "markdown",
   "metadata": {},
   "source": [
    "    Structures\n",
    "A Collection of other data types\n",
    "¡¡You can have structures inside of structures, but not an instance of itself as you can't fit it.-You can have a pointer!!"
   ]
  },
  {
   "cell_type": "code",
   "execution_count": 30,
   "metadata": {},
   "outputs": [
    {
     "name": "stdout",
     "output_type": "stream",
     "text": [
      "John Johnson 32 m\n",
      "Mary Stevens 25 f\n"
     ]
    }
   ],
   "source": [
    "#include <stdio.h>\n",
    "#include <stdlib.h> //IMPORTANT FOR MALLOC\n",
    "#include <string.h>\n",
    "\n",
    "//Definition\n",
    "struct employee{\n",
    "    char firstName[20];\n",
    "    char *lastName;\n",
    "    int age;\n",
    "    char gender;\n",
    "};\n",
    "int main()\n",
    "{\n",
    "    struct employee EmployeeX;\n",
    "\n",
    "    strcpy(EmployeeX.firstName, \"John\");\n",
    "    EmployeeX.lastName = (char*) malloc(20 * sizeof(char));\n",
    "    strcpy(EmployeeX.lastName, \"Johnson\");\n",
    "    EmployeeX.age = 32;\n",
    "    EmployeeX.gender = 'm';\n",
    "    printf(\"%s %s %d %c\\n\", EmployeeX.firstName, EmployeeX.lastName, EmployeeX.age, EmployeeX.gender);\n",
    "\n",
    "\n",
    "    //or\n",
    "    typedef struct employee emp;\n",
    "\n",
    "    emp manager;\n",
    "    strcpy(manager.firstName, \"Mary\");\n",
    "    manager.lastName = (char*) malloc(20 * sizeof(char));\n",
    "    strcpy(manager.lastName, \"Stevens\");\n",
    "    manager.age = 25;\n",
    "    manager.gender = 'f';\n",
    "    printf(\"%s %s %d %c\\n\", manager.firstName, manager.lastName, manager.age, manager.gender);\n",
    "    \n",
    "    //or with pointers to a struct\n",
    "    struct employee empy;\n",
    "    struct employee *pEmployee = &empy;\n",
    "    strcpy(pEmployee->firstName,\"Jane\");\n",
    "    pEmployee->age =26;\n",
    "    // You can use arrows OR derreference the pointer and use the dot\n",
    "    printf(\"%s %d\\n\",pEmployee->firstName,(*pEmployee).age);\n",
    "\n",
    "\n",
    "}"
   ]
  }
 ],
 "metadata": {
  "kernelspec": {
   "display_name": "C",
   "language": "c",
   "name": "c"
  },
  "language_info": {
   "file_extension": ".c",
   "mimetype": "text/plain",
   "name": "c"
  }
 },
 "nbformat": 4,
 "nbformat_minor": 2
}
