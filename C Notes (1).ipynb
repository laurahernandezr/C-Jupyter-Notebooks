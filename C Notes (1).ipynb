{
 "cells": [
  {
   "cell_type": "markdown",
   "metadata": {},
   "source": [
    "    Basic Data Types\n",
    "\n",
    "char - character, holds ASCII values (1 byte integer)\n",
    "int - integer (4 bytes)\n",
    "float - floating points (4 bytes)\n",
    "double - bigger float (8 bytes)\n",
    "\n",
    "    data type modifiers\n",
    "long - increases resolution to int or doubles\n",
    "shot - decreases range of ints\n",
    "unsigned - changes to only positive values"
   ]
  },
  {
   "cell_type": "markdown",
   "metadata": {},
   "source": [
    "    Printing\n",
    "puts() adds a new line character\n",
    "printf() can use variables\n",
    "\n",
    "    Formatting\n",
    "%d = decimals\n",
    "%.nf = floationg point numbers -> Will estimate the n\n",
    "&c = character\n",
    "%s = string\n",
    "\n",
    "%ns = n will add spaces to the right\n",
    "%-ns = n will add spaces to the left"
   ]
  },
  {
   "cell_type": "code",
   "execution_count": 36,
   "metadata": {},
   "outputs": [
    {
     "name": "stdout",
     "output_type": "stream",
     "text": [
      "Hello, World\n",
      "Hello Laura"
     ]
    }
   ],
   "source": [
    "#include <stdio.h>\n",
    "int main(){\n",
    "    char name[7] = \"Laura\";\n",
    "\n",
    "    puts(\"Hello, World\");\n",
    "    \n",
    "\n",
    "    printf(\"Hello %s\", name);\n",
    "}"
   ]
  },
  {
   "cell_type": "markdown",
   "metadata": {},
   "source": [
    "    Memory Concepts\n",
    "Memory locations store 1 byte\n",
    "Values are replaced in memory\n",
    "\n",
    "the variable will give you the data\n",
    "the &variable will give you the location in memory \n",
    "- memory moves by 4s and its stored in HEX\n",
    "A = 10\n",
    "B = 11\n",
    "C = 12\n",
    "D = 13\n",
    "E = 14\n",
    "F = 15\n",
    "\n",
    "    Type Casting\n",
    " atof() converts from string array to float\n",
    " age = atof(buf)\n",
    " \n",
    " atoi() converts from string array to integer\n",
    " age = atoi(buf)"
   ]
  },
  {
   "cell_type": "markdown",
   "metadata": {},
   "source": [
    "    Input from Keyboard\n",
    "scanf() \n",
    "- reads data from standar input\n",
    "- needs the location in memory\n",
    "- save directly to the variable\n",
    "- stop at whitespace and doesn't count them\n",
    "\n",
    "fgets(bufferVariable, BUFSIZ, stdin)\n",
    "- leaves the \\n"
   ]
  },
  {
   "cell_type": "code",
   "execution_count": 5,
   "metadata": {},
   "outputs": [],
   "source": [
    "#include <stdio.h>\n",
    "int main(){\n",
    "    char name[BUFSIZ] = \"\";\n",
    "\n",
    "    puts(\"Input a name\");\n",
    "    \n",
    "    fgets(name, BUFSIZ, stdin); //fgets takes in a char array (strings)\n",
    "    //or\n",
    "    scanf(\"%s\", &name);// you specify the input type, but it is saved directly to the variable\n",
    "\n",
    "    printf(\"Hello %s\", name);\n",
    "}"
   ]
  },
  {
   "cell_type": "markdown",
   "metadata": {},
   "source": [
    "    If Statements\n",
    "if (){\n",
    "}else if(){\n",
    "}else{}\n",
    "\n",
    "> greater than\n",
    "< less than\n",
    ">= greater or equal\n",
    "<= less or equal\n",
    "!= not equal\n",
    "== equals\n",
    "|| or\n",
    "&& and\n",
    "\n",
    "    Ternary Conditional Operator\n",
    "function(condition? if true: if false)"
   ]
  },
  {
   "cell_type": "code",
   "execution_count": 6,
   "metadata": {},
   "outputs": [
    {
     "name": "stdout",
     "output_type": "stream",
     "text": [
      "Passed\n"
     ]
    }
   ],
   "source": [
    "#include <stdio.h>\n",
    "int main(){\n",
    "\n",
    "    int grade = 70;\n",
    "\n",
    "    printf(\"%s\\n\", (grade >=60)? \"Passed\":\"Failed\");\n",
    "}\n"
   ]
  },
  {
   "cell_type": "markdown",
   "metadata": {},
   "source": [
    "    While Loop\n",
    "Programmer specifies the action to be done while some condition remains true.\n",
    "\n",
    "while(){\n",
    "}\n",
    "\n",
    "    Sentinel- Controlled Repetition\n",
    "Loop until the user inputs a sentinel value (flag)\n",
    "- Flag indicates end of entry.\n",
    "- End loop when falg value is entered."
   ]
  },
  {
   "cell_type": "markdown",
   "metadata": {},
   "source": [
    "    Assignment Increment/Decrement Operators\n",
    "\n",
    "\"y=y+2\"  equals  \"y+=2\"\n",
    "y++ increments by one after using it\n",
    "++y increments by one before using it\n",
    "y-- uses and decrements by one\n",
    "--y decrements and the uses it\n",
    "\n",
    "    Do while loops\n",
    "\n",
    "do {\n",
    "}\n",
    "while(condition);"
   ]
  },
  {
   "cell_type": "markdown",
   "metadata": {},
   "source": [
    "    Random Function\n",
    "rand()\n",
    "\n",
    "- Generates an integer between 0 and RAND_MAX\n",
    "- srand(n) takes a number for the seed\n",
    "- from <stdlib.h>\n",
    "- time() is in <time.h>"
   ]
  },
  {
   "cell_type": "code",
   "execution_count": 42,
   "metadata": {},
   "outputs": [
    {
     "name": "stdout",
     "output_type": "stream",
     "text": [
      "4"
     ]
    }
   ],
   "source": [
    "#include <stdio.h>\n",
    "#include <stdlib.h>\n",
    "#include <time.h>\n",
    "\n",
    "int main(){\n",
    "\n",
    "//generates a seed from time 0 \n",
    "    srand(time(NULL));\n",
    "\n",
    "// generates a random number from 2 to 5\n",
    "    int n = 2 + rand() % 5;\n",
    "\n",
    "    printf(\"%d\", n);\n",
    "    return 0;\n",
    "}"
   ]
  },
  {
   "cell_type": "markdown",
   "metadata": {},
   "source": [
    "    For Loops\n",
    "for (initialization; LoopContinuationTest; increment){\n",
    "}\n",
    "\n",
    "- Arguments need to be separated by semi-colons\n",
    "- You can add multiple initializations and increments, separated by commas\n",
    "- Nested for loop are useful for tables (blocks of outputs)"
   ]
  },
  {
   "cell_type": "markdown",
   "metadata": {},
   "source": [
    "    Break \n",
    "Causes immediate exit from a while, for, do..while, switch\n",
    "\n",
    "- Goes back to the first statement\n",
    "- Used as early escape\n"
   ]
  },
  {
   "cell_type": "markdown",
   "metadata": {},
   "source": [
    "    Continue\n",
    "Skips the remaining steps in the while, for, do.. while statement,\n",
    "proceeds to the next iteration of the loop. \n",
    "\n",
    "- while and do..while -- The loop continuation is evaluated inmmediately after the continue statement is executed. \n",
    "- for -- Increment expression is executed then the loop is evauated"
   ]
  },
  {
   "cell_type": "markdown",
   "metadata": {},
   "source": [
    "    Switch\n",
    "switch(expression)\n",
    "{\n",
    "    case 'constant':\n",
    "    statement;\n",
    "    break;\n",
    "    default:\n",
    "    statement;\n",
    "    break;\n",
    "    \n",
    "}\n",
    "\n",
    "- The expression must be of integral type or Class type\n",
    "- Each case is followed by the value to be compared and a colon\n",
    "- the constant needs to be the same type as the expression\n",
    "- break makes the switch terminate and it jumps to the following line after the switch\n",
    "- lack of break will make the computer fall through to the next case\n",
    "- default is optional and doesn't need a break, as it should be at the end."
   ]
  },
  {
   "cell_type": "code",
   "execution_count": 2,
   "metadata": {},
   "outputs": [
    {
     "name": "stdout",
     "output_type": "stream",
     "text": [
      "You Passed!"
     ]
    }
   ],
   "source": [
    "#include <stdio.h>\n",
    "\n",
    "int main(){\n",
    "\n",
    "    char grade = 'A';\n",
    "    \n",
    "    switch(grade){\n",
    "    case 'A':\n",
    "    case 'B':\n",
    "    case 'C':\n",
    "        printf(\"You Passed!\");\n",
    "        break;\n",
    "    case 'D':\n",
    "        printf(\"You passed but need to repeat the class\");\n",
    "        break;\n",
    "    case 'F':\n",
    "        printf(\"You failed\");\n",
    "    }\n",
    "    \n",
    "    return 0;\n",
    "}\n"
   ]
  },
  {
   "cell_type": "markdown",
   "metadata": {},
   "source": [
    "    File and File Processing \n",
    "- Library <stdio.h>\n",
    "- Open the file for reading or writing\n",
    "- Check if the opening was successful \n",
    "- read/write from the file\n",
    "- close the file"
   ]
  },
  {
   "cell_type": "code",
   "execution_count": null,
   "metadata": {},
   "outputs": [],
   "source": [
    "#include <stdio.h>\n",
    "\n",
    "int main(){\n",
    "\n",
    "    FILE *pInFile; //pointer for file to read\n",
    "    FILE *pOutFile; //pointer for file to write\n",
    "    \n",
    "    pInFile = fopen(\"inputFile.txt\",\"r\"); //open file for reading\n",
    "    pOutFile = fopen(\"outputFile.txt\", \"w\"); //open file for writing\n",
    "    \n",
    "    char username[30];\n",
    "    char buffer[BUFSIZ];\n",
    "    float score;\n",
    "     \n",
    "     //check if its the end of the file \n",
    "    while(!feof(pInFile)){\n",
    "        fscanf(pInFile, \"%s %f\", &username, &score); //read from file\n",
    "        fgets(buffer,BUFSIZ,pInFile); // other way to read 1 line from file\n",
    "        fprintf(pOutFile, \"The score of %s is %d \\n\", username, score) //write to file\n",
    "    }\n",
    "    fclose(pInFile); //close file\n",
    "    fclose(pOutFile);\n",
    "\n",
    "}"
   ]
  },
  {
   "cell_type": "markdown",
   "metadata": {},
   "source": [
    "    Functions\n",
    "Independent section of code that does a specific task\n",
    "\n",
    "returnType functionName(argumentType argumentVariable);\n",
    "\n",
    "- Declarations go before main, don't need arument names\n",
    "It tells the compiler what to look for: correct return type, correct number and correct argument type.\n",
    "- Definitions go after the main and are the actual implementation of the function\n",
    "- Argument variables are passed as copies (Call by value)\n",
    "- Function calls are stored in a Stack, every time a function is called, it gets pushed out of the stack"
   ]
  },
  {
   "cell_type": "markdown",
   "metadata": {},
   "source": [
    "    Storage Calsses \n",
    "extern: Global variables, function names\n",
    "static: only known inside of the function but their lifespan is as long as the program\n",
    "auto: for local variables, lifespan is the same s their container\n",
    "register: stores in register for speed"
   ]
  },
  {
   "cell_type": "markdown",
   "metadata": {},
   "source": [
    "    Scope Rules\n",
    "Function Scope: things inside of a function, e.g. local variables\n",
    "File Scope: ouside of functions, accessible to all functions after its declaration\n",
    "Block Scope: inside curly braces {}\n",
    "Function prototype scope: used in parameter list"
   ]
  },
  {
   "cell_type": "markdown",
   "metadata": {},
   "source": [
    "    Recursion\n",
    "Functions that invoke themselves\n",
    "- Operation is performed until base case is met\n",
    "- More expensive on the processor than iterations"
   ]
  },
  {
   "cell_type": "markdown",
   "metadata": {},
   "source": [
    "    Arrays\n",
    "    \n",
    "- The first pointer in memory is to the first element\n",
    "&array and &array[0] are the same\n",
    "- Arrays are passes by reference (NOT a copy)\n",
    "void doubleProductPrice(float products[], int size);\n",
    "- You can use const to avoid the function changing the array, but you won't be able to change it. \n",
    "void doubleProductPrice(const float products[], int size);\n",
    "- char arrays end with '\\0'\n",
    "- You can have multiple-subscripted arrays\n",
    "int b[2][3] = {{1,2,3},{4,5,6}};"
   ]
  },
  {
   "cell_type": "code",
   "execution_count": 4,
   "metadata": {},
   "outputs": [
    {
     "name": "stdout",
     "output_type": "stream",
     "text": [
      "1"
     ]
    }
   ],
   "source": [
    "#include <stdio.h>\n",
    "\n",
    "int main(){\n",
    "    int n[5]={1,2,3,4,5}; //initialization\n",
    "    int m[5] = {1,2,3}; // will fill out with zeros\n",
    "    printf(\"%d\",m[0]); //accessing a value\n",
    "}"
   ]
  }
 ],
 "metadata": {
  "kernelspec": {
   "display_name": "C",
   "language": "c",
   "name": "c"
  },
  "language_info": {
   "file_extension": ".c",
   "mimetype": "text/plain",
   "name": "c"
  }
 },
 "nbformat": 4,
 "nbformat_minor": 2
}
